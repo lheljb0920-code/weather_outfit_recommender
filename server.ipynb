{
 "cells": [
  {
   "cell_type": "code",
   "execution_count": null,
   "id": "93008b51-b40e-49a9-8c61-b5aadddaff6b",
   "metadata": {},
   "outputs": [
    {
     "name": "stdout",
     "output_type": "stream",
     "text": [
      " * Serving Flask app \"__main__\" (lazy loading)\n",
      " * Environment: production\n",
      "\u001b[31m   WARNING: This is a development server. Do not use it in a production deployment.\u001b[0m\n",
      "\u001b[2m   Use a production WSGI server instead.\u001b[0m\n",
      " * Debug mode: off\n"
     ]
    },
    {
     "name": "stderr",
     "output_type": "stream",
     "text": [
      " * Running on http://127.0.0.1:5000/ (Press CTRL+C to quit)\n"
     ]
    }
   ],
   "source": [
    "from flask import Flask, request, jsonify\n",
    "from googletrans import Translator\n",
    "import requests\n",
    "import json\n",
    "\n",
    "app = Flask(__name__)\n",
    "\n",
    "def translate_city_name_to_en(city_name):\n",
    "    translator = Translator()\n",
    "    return translator.translate(city_name, src='ko', dest='en').text\n",
    "\n",
    "def translate_weather_description_to_ko(weather_description):\n",
    "    translator = Translator()\n",
    "    return translator.translate(weather_description, src='en', dest='ko').text\n",
    "\n",
    "def get_weather_by_city(city_name):\n",
    "    api_key = '\"OPENWEATHER_API_KEY\"'  # OpenWeatherMap API 키\n",
    "    url = f'http://api.openweathermap.org/data/2.5/weather?q={city_name}&appid={api_key}&units=metric'\n",
    "    response = requests.get(url)\n",
    "    data = json.loads(response.text)\n",
    "\n",
    "    if data['cod'] == 200:\n",
    "        temperature = data['main']['temp']\n",
    "        humidity = data['main']['humidity']\n",
    "        weather_description = data['weather'][0]['description']\n",
    "        return {\n",
    "            'temperature': temperature,\n",
    "            'humidity': humidity,\n",
    "            'weather_description': translate_weather_description_to_ko(weather_description)\n",
    "        }\n",
    "    else:\n",
    "        return {'error': '날씨 정보를 가져오는데 실패했습니다.'}\n",
    "\n",
    "@app.route('/weather', methods=['POST'])\n",
    "def weather():\n",
    "    city_name = request.form['city_name']\n",
    "    translated_city_name = translate_city_name_to_en(city_name)\n",
    "    weather_info = get_weather_by_city(translated_city_name)\n",
    "    return jsonify(weather_info)\n",
    "\n",
    "if __name__ == '__main__':\n",
    "    app.run()"
   ]
  },
  {
   "cell_type": "code",
   "execution_count": null,
   "id": "2920519b-5360-4ecd-bcf2-5d3caeb0e3e6",
   "metadata": {},
   "outputs": [],
   "source": []
  },
  {
   "cell_type": "code",
   "execution_count": null,
   "id": "42f0921b-d39a-4a47-bd2d-e0b3faee9134",
   "metadata": {},
   "outputs": [],
   "source": []
  }
 ],
 "metadata": {
  "kernelspec": {
   "display_name": "Python (opencv)",
   "language": "python",
   "name": "opencv"
  },
  "language_info": {
   "codemirror_mode": {
    "name": "ipython",
    "version": 3
   },
   "file_extension": ".py",
   "mimetype": "text/x-python",
   "name": "python",
   "nbconvert_exporter": "python",
   "pygments_lexer": "ipython3",
   "version": "3.9.7"
  }
 },
 "nbformat": 4,
 "nbformat_minor": 5
}
